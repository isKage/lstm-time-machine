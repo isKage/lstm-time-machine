{
 "cells": [
  {
   "cell_type": "code",
   "id": "initial_id",
   "metadata": {
    "collapsed": true,
    "ExecuteTime": {
     "end_time": "2025-03-17T05:39:51.119902Z",
     "start_time": "2025-03-17T05:39:51.103394Z"
    }
   },
   "source": [
    "%matplotlib inline\n",
    "import math\n",
    "import torch\n",
    "from torch import nn\n",
    "from torch.nn import functional as F"
   ],
   "outputs": [],
   "execution_count": 63
  },
  {
   "metadata": {
    "ExecuteTime": {
     "end_time": "2025-03-17T05:40:56.594892Z",
     "start_time": "2025-03-17T05:40:56.528259Z"
    }
   },
   "cell_type": "code",
   "source": [
    "from data import SeqDataLoader\n",
    "from data import LoadTimeMachine\n",
    "\n",
    "\n",
    "def dataloader(file_path, batch_size, num_steps, use_random_iter=False, token='word', min_freq=0,\n",
    "               reserved_tokens=None):\n",
    "    data_ = LoadTimeMachine(file_path=file_path, token=token, min_freq=min_freq, reserved_tokens=reserved_tokens)\n",
    "    vocab_ = data_.get_vocab()\n",
    "\n",
    "    dataloader_ = SeqDataLoader(data=data_, batch_size=batch_size, num_steps=num_steps, use_random_iter=use_random_iter)\n",
    "    del data_\n",
    "\n",
    "    return dataloader_, vocab_\n",
    "\n",
    "\n",
    "file_path = 'the-time-machine.txt'\n",
    "# 加载数据迭代器 和 词表\n",
    "batch_size, num_steps = 32, 35\n",
    "train_iter, vocab = dataloader(file_path=file_path, batch_size=batch_size, num_steps=num_steps)"
   ],
   "id": "f68231dcc4f77308",
   "outputs": [],
   "execution_count": 79
  },
  {
   "metadata": {},
   "cell_type": "markdown",
   "source": [
    "独热编码\n",
    "\n",
    "简言之，将每个索引映射为相互不同的单位向量： 假设词表中不同词元的数目为（即len(vocab)），词元索引的范围为 0 到 N - 1 。如果词元的索引是整数，那么我们将创建一个长度为 N 的全 0 向量，并将第 i 处的元素设置为 1 。"
   ],
   "id": "443faa62f6962c88"
  },
  {
   "metadata": {
    "ExecuteTime": {
     "end_time": "2025-03-17T05:40:57.379647Z",
     "start_time": "2025-03-17T05:40:57.350813Z"
    }
   },
   "cell_type": "code",
   "source": [
    "for X, y in train_iter:\n",
    "    print(\"X: {}\\n\".format(X.shape), X)\n",
    "    print(\"y: {}\\n\".format(y.shape), y)\n",
    "    break\n",
    "# 每个都是一个 [32, 35] 的张量，每一行 [35, ] 都是一句话，每个数字代表一个 token"
   ],
   "id": "c5db59ebf5a718fe",
   "outputs": [
    {
     "name": "stdout",
     "output_type": "stream",
     "text": [
      "X: torch.Size([32, 35])\n",
      " tensor([[ 176,   43, 1566,  ...,   68,   26,  548],\n",
      "        [   2,  310,  196,  ...,    2,  170,   49],\n",
      "        [  49,   12,   27,  ...,    2,   20,   86],\n",
      "        ...,\n",
      "        [   1,  349,  179,  ...,   17,    1,  156],\n",
      "        [5257,  174,   55,  ...,   84,  229,  381],\n",
      "        [ 328,  217,    1,  ...,  421, 2465, 1135]])\n",
      "y: torch.Size([32, 35])\n",
      " tensor([[  43, 1566, 1567,  ...,   26,  548,    7],\n",
      "        [ 310,  196,   49,  ...,  170,   49,  159],\n",
      "        [  12,   27, 2710,  ...,   20,   86, 2714],\n",
      "        ...,\n",
      "        [ 349,  179,    3,  ...,    1,  156,   45],\n",
      "        [ 174,   55,   82,  ...,  229,  381,    7],\n",
      "        [ 217,    1, 1140,  ..., 2465, 1135,   19]])\n"
     ]
    }
   ],
   "execution_count": 80
  },
  {
   "metadata": {
    "ExecuteTime": {
     "end_time": "2025-03-17T05:40:57.565888Z",
     "start_time": "2025-03-17T05:40:57.559803Z"
    }
   },
   "cell_type": "code",
   "source": [
    "# 独热编码案例\n",
    "F.one_hot(torch.tensor([0, 2]), 10), F.one_hot(torch.tensor([0, 2]), 10).shape\n",
    "# 将 [0, 2] 转变为长为 10 的独热编码，即第 0 位置为 1 其他为 0 ，以及第 2 位置为 1 其他为 0 "
   ],
   "id": "d806bcf016ceb181",
   "outputs": [
    {
     "data": {
      "text/plain": [
       "(tensor([[1, 0, 0, 0, 0, 0, 0, 0, 0, 0],\n",
       "         [0, 0, 1, 0, 0, 0, 0, 0, 0, 0]]),\n",
       " torch.Size([2, 10]))"
      ]
     },
     "execution_count": 81,
     "metadata": {},
     "output_type": "execute_result"
    }
   ],
   "execution_count": 81
  },
  {
   "metadata": {
    "ExecuteTime": {
     "end_time": "2025-03-17T05:40:57.787116Z",
     "start_time": "2025-03-17T05:40:57.754176Z"
    }
   },
   "cell_type": "code",
   "source": [
    "tmp = torch.zeros((32, 35))\n",
    "print(tmp.shape)\n",
    "tmp = F.one_hot(tmp.T.long(), len(vocab))  # one_hot 只对整数类型，且在最后一个维度扩展\n",
    "print(tmp.shape)"
   ],
   "id": "2ec8cae6586bd3f9",
   "outputs": [
    {
     "name": "stdout",
     "output_type": "stream",
     "text": [
      "torch.Size([32, 35])\n",
      "torch.Size([35, 32, 5471])\n"
     ]
    }
   ],
   "execution_count": 82
  },
  {
   "metadata": {},
   "cell_type": "markdown",
   "source": "初始化模型参数",
   "id": "4eb656f2874f4e6f"
  },
  {
   "metadata": {
    "ExecuteTime": {
     "end_time": "2025-03-17T05:40:58.091633Z",
     "start_time": "2025-03-17T05:40:58.086589Z"
    }
   },
   "cell_type": "code",
   "source": [
    "def get_params(vocab_size, num_hiddens, device):\n",
    "    \"\"\"\n",
    "    获取参数\n",
    "    :param vocab_size: 词汇表的大小，即输入和输出的维度\n",
    "    :param num_hiddens: 隐藏层的大小，即隐藏状态的维度\n",
    "    :param device: 指定参数存储在 CPU 还是 GPU 上\n",
    "    :return: 需要学习的参数 \n",
    "    \"\"\"\n",
    "    num_inputs = num_outputs = vocab_size  # 特征数，也是输入输出数，即词汇表的大小\n",
    "\n",
    "    # num_inputs, num_outputs 只是在这个例子里等于 vocab_size\n",
    "\n",
    "    def normal(shape):\n",
    "        \"\"\"\n",
    "        均值为 0、标准差为 0.01 的随机值\n",
    "        :param shape: 形状 \n",
    "        :return: 参数 (均值为 0、标准差为 0.01 的随机张量)\n",
    "        \"\"\"\n",
    "        return torch.randn(size=shape, device=device) * 0.01\n",
    "\n",
    "    # 隐藏层参数\n",
    "    W_xh = normal((num_inputs, num_hiddens))\n",
    "    W_hh = normal((num_hiddens, num_hiddens))\n",
    "    b_h = torch.zeros(num_hiddens, device=device)\n",
    "\n",
    "    # 输出层参数\n",
    "    W_hq = normal((num_hiddens, num_outputs))\n",
    "    b_q = torch.zeros(num_outputs, device=device)\n",
    "\n",
    "    # 参数\n",
    "    params = [W_xh, W_hh, b_h, W_hq, b_q]\n",
    "    for param in params:\n",
    "        param.requires_grad_(True)\n",
    "    return params"
   ],
   "id": "5da89f5651c5c574",
   "outputs": [],
   "execution_count": 83
  },
  {
   "metadata": {},
   "cell_type": "markdown",
   "source": "从零实现 整合版本",
   "id": "2782bf01c33d6963"
  },
  {
   "metadata": {},
   "cell_type": "code",
   "outputs": [],
   "execution_count": null,
   "source": [
    "import os.path\n",
    "import time\n",
    "import torch\n",
    "\n",
    "from torch import nn\n",
    "\n",
    "\n",
    "class BasicModule(nn.Module):\n",
    "    \"\"\"\n",
    "    作为基类，继承 nn.Module 但增加了模型保存和加载功能 save and load\n",
    "    \"\"\"\n",
    "\n",
    "    def __init__(self):\n",
    "        super().__init__()\n",
    "        self.model_name = str(type(self))\n",
    "\n",
    "    def load(self, model_path):\n",
    "        \"\"\"\n",
    "        根据模型路径加载模型\n",
    "        :param model_path: 模型路径\n",
    "        :return: 模型\n",
    "        \"\"\"\n",
    "        self.load_state_dict(torch.load(model_path))\n",
    "\n",
    "    def save(self, filename=None):\n",
    "        \"\"\"\n",
    "        保存模型，默认使用 \"模型名字 + 时间\" 作为文件名，也可以自定义\n",
    "        如 ResNet34_20250710_23:57:29.pth\n",
    "        \"\"\"\n",
    "        if filename is None:\n",
    "            filename = self.model_name + '_' + time.strftime(\"%Y-%m-%d-%H-%M-%S\") + '.pth'\n",
    "        torch.save(self.state_dict(), os.path.join('checkpoints', filename))\n",
    "        return filename"
   ],
   "id": "f8f3daf1362cfff2"
  },
  {
   "metadata": {
    "ExecuteTime": {
     "end_time": "2025-03-17T05:40:58.431775Z",
     "start_time": "2025-03-17T05:40:58.422490Z"
    }
   },
   "cell_type": "code",
   "source": [
    "class RNNModelScratch:\n",
    "    \"\"\"从零开始实现的循环神经网络模型\"\"\"\n",
    "\n",
    "    def __init__(self, vocab_size, num_hiddens, device):\n",
    "        \"\"\"初始化\"\"\"\n",
    "\n",
    "        # 词典长度 (特征数/不同 token 的个数)\n",
    "        self.vocab_size = vocab_size\n",
    "        # 隐藏单元数\n",
    "        self.num_hiddens = num_hiddens\n",
    "\n",
    "        # 获取参数\n",
    "        self.params = self._get_params(vocab_size, num_hiddens, device)\n",
    "\n",
    "    def __call__(self, X, state):\n",
    "        \"\"\"call 方法，可以以函数的方法使用实例化对象\"\"\"\n",
    "        X = F.one_hot(X.T.long(), self.vocab_size).type(torch.float32)\n",
    "        return self._forward_fn(X, state, self.params)\n",
    "\n",
    "    def begin_state(self, batch_size, device):\n",
    "        \"\"\"起始隐藏层状态 state\n",
    "        :param batch_size: 批量大小\n",
    "        :param device: 设备\n",
    "        :return 起始隐藏层状态 H.shape = (batch_size, num_hiddens)\n",
    "        \"\"\"\n",
    "        return (torch.zeros((batch_size, self.num_hiddens), device=device),)\n",
    "\n",
    "    def _get_params(self, vocab_size, num_hiddens, device):\n",
    "        \"\"\"\n",
    "        获取参数\n",
    "        :param vocab_size: 词汇表的大小，即输入和输出的维度\n",
    "        :param num_hiddens: 隐藏层的大小，即隐藏状态的维度\n",
    "        :param device: 指定参数存储在 CPU 还是 GPU 上\n",
    "        :return: 需要学习的参数 \n",
    "        \"\"\"\n",
    "        # num_inputs, num_outputs 只是在这个例子里等于 vocab_size\n",
    "        num_inputs = num_outputs = vocab_size  # 特征数，也是输入输出数，即词汇表的大小\n",
    "\n",
    "        def normal(shape):\n",
    "            \"\"\"\n",
    "            均值为 0、标准差为 0.01 的随机值\n",
    "            :param shape: 形状 \n",
    "            :return: 参数 (均值为 0、标准差为 0.01 的随机张量)\n",
    "            \"\"\"\n",
    "            return torch.randn(size=shape, device=device) * 0.01\n",
    "\n",
    "        # 隐藏层参数\n",
    "        W_xh = normal((num_inputs, num_hiddens))\n",
    "        W_hh = normal((num_hiddens, num_hiddens))\n",
    "        b_h = torch.zeros(num_hiddens, device=device)\n",
    "\n",
    "        # 输出层参数\n",
    "        W_hq = normal((num_hiddens, num_outputs))\n",
    "        b_q = torch.zeros(num_outputs, device=device)\n",
    "\n",
    "        # 参数\n",
    "        params = [W_xh, W_hh, b_h, W_hq, b_q]\n",
    "        for param in params:\n",
    "            param.requires_grad_(True)\n",
    "        return params\n",
    "\n",
    "    def _forward_fn(self, inputs, state, params):\n",
    "        \"\"\"前向传播\n",
    "        :param inputs: 输入 X\n",
    "        :param state: 隐藏状态 H\n",
    "        :param params: 模型可学习参数\n",
    "        \"\"\"\n",
    "        # inputs的形状：(时间步数量，批量大小，词表大小)\n",
    "        W_xh, W_hh, b_h, W_hq, b_q = params\n",
    "        H, = state\n",
    "\n",
    "        outputs = []\n",
    "        for X in inputs:  # X的形状：(批量大小，词表大小)\n",
    "            H = torch.tanh(torch.mm(X, W_xh) + torch.mm(H, W_hh) + b_h)\n",
    "            Y = torch.mm(H, W_hq) + b_q\n",
    "            outputs.append(Y)\n",
    "        # 返回输出和隐藏状态: O, (H, ) \n",
    "        return torch.cat(outputs, dim=0), (H,)"
   ],
   "id": "f1c9ffd04b7911a0",
   "outputs": [],
   "execution_count": 84
  },
  {
   "metadata": {
    "ExecuteTime": {
     "end_time": "2025-03-17T05:40:58.585212Z",
     "start_time": "2025-03-17T05:40:58.581575Z"
    }
   },
   "cell_type": "code",
   "source": [
    "def try_gpu():\n",
    "    if torch.cuda.is_available():\n",
    "        return torch.device('cuda')\n",
    "    else:\n",
    "        return torch.device('cpu')"
   ],
   "id": "af0ecf1148b53d29",
   "outputs": [],
   "execution_count": 85
  },
  {
   "metadata": {
    "ExecuteTime": {
     "end_time": "2025-03-17T05:40:59.149186Z",
     "start_time": "2025-03-17T05:40:58.754493Z"
    }
   },
   "cell_type": "code",
   "source": [
    "\"\"\" 测试 \"\"\"\n",
    "\n",
    "# 隐藏层单元数/维度\n",
    "num_hiddens = 512\n",
    "\n",
    "# 实例化网络\n",
    "net = RNNModelScratch(\n",
    "    vocab_size=len(vocab),\n",
    "    num_hiddens=num_hiddens,\n",
    "    device=try_gpu()\n",
    ")\n",
    "\n",
    "# 模拟一个输入 X\n",
    "X = torch.rand((32, 35))\n",
    "\n",
    "# 初始状态\n",
    "state = net.begin_state(X.shape[0], try_gpu())\n",
    "\n",
    "# 输出和新状态\n",
    "Y, new_state = net(X.to(try_gpu()), state)\n",
    "\n",
    "# 输出结果\n",
    "print(\"Y shape: {}\".format(Y.shape))  # Y shape (batch_size * num_steps, vocab_size) = (32 * 35, 5471)\n",
    "print(\"new state shape: {}\".format(new_state[0].shape))  # 仍然为 (batch_size, num_hiddens)"
   ],
   "id": "2ffa1b6384e0ce96",
   "outputs": [
    {
     "name": "stdout",
     "output_type": "stream",
     "text": [
      "Y shape: torch.Size([1120, 5471])\n",
      "new state shape: torch.Size([32, 512])\n"
     ]
    }
   ],
   "execution_count": 86
  },
  {
   "metadata": {},
   "cell_type": "markdown",
   "source": "预测",
   "id": "3d375d7043b716fc"
  },
  {
   "metadata": {
    "ExecuteTime": {
     "end_time": "2025-03-17T05:42:24.996119Z",
     "start_time": "2025-03-17T05:42:24.982429Z"
    }
   },
   "cell_type": "code",
   "source": [
    "def predict(prefix, num_preds, net, vocab, device, token='word'):\n",
    "    \"\"\"\n",
    "    在 prefix 后面生成新字符\n",
    "    :param prefix: 用户输入的前文\n",
    "    :param num_preds: 向后预测几个时间步\n",
    "    :param net: RNN 网络\n",
    "    :param vocab: 词表，传入 token 获得索引\n",
    "    :param device: 设备\n",
    "    :return: 词表转文本字符串\n",
    "    \"\"\"\n",
    "    # 起始隐藏状态\n",
    "    state = net.begin_state(batch_size=1, device=device)\n",
    "\n",
    "    # 先把 prefix 第一个 token 转为数字索引存入 outputs\n",
    "    outputs = [vocab[prefix[0]]]\n",
    "\n",
    "    def get_input():\n",
    "        \"\"\"\n",
    "        根据 outputs 列表中的最后一个元素生成新的输入张量\n",
    "        :param outputs: 已经输出的列表\n",
    "        :param device : 设备\n",
    "        :return torch.Tensor: 形状为 (1, 1) 的张量，作为下一个时间步的输入\n",
    "        \"\"\"\n",
    "        # 获取 outputs 列表中的最后一个元素\n",
    "        last_output = outputs[-1]\n",
    "        # 将其转换为张量，并存储在指定设备上\n",
    "        input_tensor = torch.tensor([last_output], device=device)\n",
    "        # 调整张量的形状为 (1, 1)\n",
    "        return input_tensor.reshape((1, 1))\n",
    "\n",
    "    # 1. 预热期\n",
    "    for y in prefix[1:]:\n",
    "        # 为了得到 prefix 对应的状态 state\n",
    "        # 输入已经输出的最后一步，得到新的 state (此时没有在预测，仍然是 prefix 的已知元素)\n",
    "        _, state = net(get_input(), state)\n",
    "        # 加入 outputs 列表，然后后移\n",
    "        outputs.append(vocab[y])\n",
    "\n",
    "    # 2. 开始预测\n",
    "    for _ in range(num_preds):  # 预测 num_preds 步\n",
    "        y, state = net(get_input(), state)\n",
    "\n",
    "        # 获取概率最高的下标\n",
    "        outputs.append(int(y.argmax(dim=1).reshape(1)))\n",
    "\n",
    "    # 按照词表转换为字符输出\n",
    "    if token == 'word':\n",
    "        # 按照单词\n",
    "        return ' '.join([vocab.idx_to_token[i] for i in outputs])\n",
    "    else:\n",
    "        # 按照逐个字母\n",
    "        return ''.join([vocab.idx_to_token[i] for i in outputs])"
   ],
   "id": "3bc9b46f312b3824",
   "outputs": [],
   "execution_count": 91
  },
  {
   "metadata": {
    "ExecuteTime": {
     "end_time": "2025-03-17T05:42:25.560401Z",
     "start_time": "2025-03-17T05:42:25.529332Z"
    }
   },
   "cell_type": "code",
   "source": [
    "prefix = 'time traveller '\n",
    "prefix = prefix.split()  # 注意此处为按照 word 切割\n",
    "print(predict(prefix=prefix, num_preds=10, net=net, vocab=vocab, device=try_gpu()))"
   ],
   "id": "7f9fc76ad3ee9dee",
   "outputs": [
    {
     "name": "stdout",
     "output_type": "stream",
     "text": [
      "time traveller previous version experience motion breach delicateminded amuse hopelessly went determines”\n"
     ]
    }
   ],
   "execution_count": 92
  },
  {
   "metadata": {},
   "cell_type": "markdown",
   "source": "梯度裁剪",
   "id": "c31f4615fe88032f"
  },
  {
   "metadata": {
    "ExecuteTime": {
     "end_time": "2025-03-17T05:46:28.752295Z",
     "start_time": "2025-03-17T05:46:28.740673Z"
    }
   },
   "cell_type": "code",
   "source": [
    "def grad_clipping(net, theta):\n",
    "    \"\"\"裁剪梯度\n",
    "    :param net: 网络\n",
    "    :param theta: 判断半径\n",
    "    \"\"\"\n",
    "    # 检查是否采样高级 API 如 PyTorch 提供的 nn.Module 类\n",
    "    if isinstance(net, nn.Module):\n",
    "        # 属于 nn.Module 类，则 params 从模型中提取可被学习的\n",
    "        params = [p for p in net.parameters() if p.requires_grad]\n",
    "    else:\n",
    "        # 属于手动创建的网络，全部都是可学习的\n",
    "        params = net.params\n",
    "\n",
    "    # 获取所有参数的梯度的模长和\n",
    "    norm = torch.sqrt(sum(torch.sum((p.grad ** 2)) for p in params))\n",
    "    if norm > theta:\n",
    "        # 如果梯度太大，则缩小\n",
    "        for param in params:\n",
    "            param.grad[:] *= theta / norm"
   ],
   "id": "1164adc0d45b056e",
   "outputs": [],
   "execution_count": 93
  },
  {
   "metadata": {},
   "cell_type": "markdown",
   "source": "训练",
   "id": "9c6933ba9a13f79d"
  },
  {
   "metadata": {
    "ExecuteTime": {
     "end_time": "2025-03-17T05:58:40.831615Z",
     "start_time": "2025-03-17T05:58:40.800779Z"
    }
   },
   "cell_type": "code",
   "source": [
    "import time\n",
    "\n",
    "\n",
    "class Accumulator:\n",
    "    \"\"\"用于累加多个值的工具类\"\"\"\n",
    "\n",
    "    def __init__(self, n):\n",
    "        self.data = [0.0] * n\n",
    "\n",
    "    def add(self, *args):\n",
    "        self.data = [a + float(b) for a, b in zip(self.data, args)]\n",
    "\n",
    "    def __getitem__(self, idx):\n",
    "        return self.data[idx]\n",
    "\n",
    "\n",
    "class Timer:\n",
    "    \"\"\"计时器类\"\"\"\n",
    "\n",
    "    def __init__(self):\n",
    "        self.start_time = time.time()\n",
    "\n",
    "    def stop(self):\n",
    "        return time.time() - self.start_time"
   ],
   "id": "c2f3584aee83d1ac",
   "outputs": [],
   "execution_count": 94
  },
  {
   "metadata": {
    "ExecuteTime": {
     "end_time": "2025-03-17T06:10:26.771091Z",
     "start_time": "2025-03-17T06:10:26.749403Z"
    }
   },
   "cell_type": "code",
   "source": [
    "def train_one_epoch(net, train_iter, loss, updater, device, use_random_iter=False):\n",
    "    \"\"\"训练网络一个迭代周期\"\"\"\n",
    "    state = None  # 初始化隐藏状态为 None\n",
    "    timer = Timer()  # 创建一个计时器，用于计算训练时间\n",
    "    metric = Accumulator(2)  # 创建一个累加器，用于记录 \"训练损失\" 和 \"词元数量\" -> 2 表示累加器有两个槽位\n",
    "\n",
    "    for X, Y in train_iter:\n",
    "        if state is None or use_random_iter == True:\n",
    "            # 在第一次迭代或使用随机抽样时初始化state\n",
    "            state = net.begin_state(batch_size=X.shape[0], device=device)\n",
    "        else:\n",
    "            if isinstance(net, nn.Module) and not isinstance(state, tuple):\n",
    "                # state 对于 nn.GRU 是个张量\n",
    "                state.detach_()\n",
    "            else:\n",
    "                # state 对于 nn.LSTM 或对于从零开始实现的模型是个张量\n",
    "                for s in state:\n",
    "                    s.detach_()\n",
    "\n",
    "        y = Y.T.reshape(-1)  # 将标签 Y 转置并 ==展平== 为一维张量\n",
    "        X, y = X.to(device), y.to(device)\n",
    "\n",
    "        y_hat, state = net(X, state)  # 前向传播，获取输出 y_hat 和更新后的隐藏状态 state\n",
    "        l = loss(y_hat, y.long()).mean()  # 计算损失，并取平均值\n",
    "\n",
    "        if isinstance(updater, torch.optim.Optimizer):\n",
    "            # 如果为 PyTorch 的高级优化器\n",
    "            updater.zero_grad()  # 梯度清零\n",
    "            l.backward()  # 反向传播\n",
    "            grad_clipping(net=net, theta=1)  # 梯度裁剪\n",
    "            updater.step()  # 更新参数\n",
    "        else:\n",
    "            l.backward()\n",
    "            grad_clipping(net=net, theta=1)  # 梯度裁剪\n",
    "            updater(batch_size=1)  # 自定义更新器\n",
    "\n",
    "        metric.add(l * y.numel(), y.numel())  # 累加 \"损失\" 和 \"词元数量\" (numel 返回张量所有元素个数，即维度乘积)\n",
    "    return math.exp(metric[0] / metric[1]), metric[1] / timer.stop()  # 返回 \"困惑度\" 和 \"训练速度\""
   ],
   "id": "574567e71a72cf61",
   "outputs": [],
   "execution_count": 95
  },
  {
   "metadata": {
    "ExecuteTime": {
     "end_time": "2025-03-17T06:10:27.792779Z",
     "start_time": "2025-03-17T06:10:27.788623Z"
    }
   },
   "cell_type": "code",
   "source": [
    "def sgd(params, lr, batch_size):\n",
    "    \"\"\"\n",
    "    自定义的 SGD 更新器。\n",
    "    参数:\n",
    "        params (list): 模型参数的列表。\n",
    "        lr (float): 学习率。\n",
    "        batch_size (int): 批量大小。\n",
    "    \"\"\"\n",
    "    with torch.no_grad():  # 不需要计算梯度\n",
    "        for param in params:\n",
    "            if param.grad is not None:\n",
    "                param -= lr * param.grad / batch_size  # 更新参数\n",
    "                param.grad.zero_()  # 梯度清零"
   ],
   "id": "552e4181ed60d66e",
   "outputs": [],
   "execution_count": 96
  },
  {
   "metadata": {
    "ExecuteTime": {
     "end_time": "2025-03-17T06:27:11.896031Z",
     "start_time": "2025-03-17T06:27:11.885916Z"
    }
   },
   "cell_type": "code",
   "source": [
    "from matplotlib import pyplot as plt\n",
    "from IPython.display import clear_output\n",
    "\n",
    "\n",
    "class Animator:\n",
    "    def __init__(self, xlabel, ylabel, legend, xlim):\n",
    "        \"\"\"\n",
    "        初始化动态可视化工具。\n",
    "\n",
    "        参数:\n",
    "            xlabel (str): x 轴标签。\n",
    "            ylabel (str): y 轴标签。\n",
    "            legend (list): 图例列表。\n",
    "            xlim (list): x 轴范围。\n",
    "        \"\"\"\n",
    "        self.xlabel = xlabel\n",
    "        self.ylabel = ylabel\n",
    "        self.legend = legend\n",
    "        self.xlim = xlim\n",
    "        self.x_data = []\n",
    "        self.y_data = []\n",
    "\n",
    "    def add(self, x, y):\n",
    "        \"\"\"\n",
    "        添加数据点。\n",
    "\n",
    "        参数:\n",
    "            x (float): x 轴值。\n",
    "            y (float): y 轴值。\n",
    "        \"\"\"\n",
    "        self.x_data.append(x)\n",
    "        self.y_data.append(y)\n",
    "\n",
    "    def plot(self):\n",
    "        \"\"\"绘制当前数据点并显示图像\"\"\"\n",
    "        clear_output(wait=True)  # 清除之前的输出\n",
    "        plt.figure(figsize=(8, 4))  # 设置图像大小\n",
    "        plt.plot(self.x_data, self.y_data, label=self.legend[0])  # 绘制曲线\n",
    "        plt.xlabel(self.xlabel)  # 设置 x 轴标签\n",
    "        plt.ylabel(self.ylabel)  # 设置 y 轴标签\n",
    "        plt.xlim(self.xlim)  # 设置 x 轴范围\n",
    "        plt.legend()  # 显示图例\n",
    "        plt.grid(True)  # 显示网格\n",
    "        plt.show()  # 显示图像"
   ],
   "id": "ca45ea40e35c9cb3",
   "outputs": [],
   "execution_count": 102
  },
  {
   "metadata": {
    "ExecuteTime": {
     "end_time": "2025-03-17T07:02:25.721908Z",
     "start_time": "2025-03-17T07:02:25.710246Z"
    }
   },
   "cell_type": "code",
   "source": [
    "def train(net, train_iter, vocab, lr, num_epochs, device, use_random_iter=False):\n",
    "    \"\"\"\n",
    "    完整训练\n",
    "    :param net: 神经网络类\n",
    "    :param train_iter: 数据迭代器\n",
    "    :param vocab: 词表\n",
    "    :param lr: 学习率\n",
    "    :param num_epochs: 迭代次数\n",
    "    :param device: 设备\n",
    "    :param use_random_iter: 是否随机抽样 \n",
    "    \"\"\"\n",
    "\n",
    "    loss = nn.CrossEntropyLoss()\n",
    "    ppl_list = []\n",
    "    # vis = Animator(xlabel='epoch', ylabel='perplexity', legend=['train'], xlim=[10, num_epochs])\n",
    "\n",
    "    # 初始化\n",
    "    if isinstance(net, nn.Module):\n",
    "        updater = torch.optim.SGD(net.parameters(), lr)\n",
    "    else:\n",
    "        def updater(batch_size):  # 传入 train_one_epoch\n",
    "            return sgd(net.params, lr, batch_size)\n",
    "\n",
    "    ppl = 0.\n",
    "    speed = 0.\n",
    "    # 训练\n",
    "    for epoch in range(num_epochs):\n",
    "        ppl, speed = train_one_epoch(net, train_iter, loss, updater, device, use_random_iter)\n",
    "        ppl_list.append(ppl)\n",
    "        \n",
    "        if num_epochs < 100:\n",
    "            print(\"= {} / {} 困惑度 {:.1f} | {:.1f} 词元/秒 = \".format(epoch + 1, num_epochs, ppl, speed))\n",
    "        else:\n",
    "            if (epoch + 1) % 10 == 0:\n",
    "                print(\"= {} / {} 困惑度 {:.1f} | {:.1f} 词元/秒 = \".format(epoch + 1, num_epochs, ppl, speed))\n",
    "                # vis.add(epoch + 1, [ppl])  # 动态展示/添加\n",
    "    print(\"[困惑度 {:.1f} | {:.1f} 词元/秒 on {}]\".format(ppl, speed, str(device)))\n",
    "    # vis.plot()\n",
    "    return ppl_list"
   ],
   "id": "76de753ecc00e9d2",
   "outputs": [],
   "execution_count": 115
  },
  {
   "metadata": {
    "ExecuteTime": {
     "end_time": "2025-03-17T07:05:09.620036Z",
     "start_time": "2025-03-17T07:02:26.937147Z"
    }
   },
   "cell_type": "code",
   "source": [
    "# 正式训练\n",
    "from data import SeqDataLoader\n",
    "from data import LoadTimeMachine\n",
    "\n",
    "token = 'char'\n",
    "\n",
    "\n",
    "def dataloader(file_path, batch_size, num_steps, use_random_iter=False, token=token, min_freq=0,\n",
    "               reserved_tokens=None):\n",
    "    data_ = LoadTimeMachine(file_path=file_path, token=token, min_freq=min_freq, reserved_tokens=reserved_tokens)\n",
    "    vocab_ = data_.get_vocab()\n",
    "\n",
    "    dataloader_ = SeqDataLoader(data=data_, batch_size=batch_size, num_steps=num_steps, use_random_iter=use_random_iter)\n",
    "    del data_\n",
    "\n",
    "    return dataloader_, vocab_\n",
    "\n",
    "\n",
    "file_path = 'the-time-machine.txt'\n",
    "# 加载数据迭代器 和 词表\n",
    "batch_size, num_steps = 32, 35\n",
    "train_iter, vocab = dataloader(file_path=file_path, batch_size=batch_size, num_steps=num_steps)\n",
    "\n",
    "# 实例化网络\n",
    "net = RNNModelScratch(\n",
    "    vocab_size=len(vocab),\n",
    "    num_hiddens=num_hiddens,\n",
    "    device=try_gpu()\n",
    ")\n",
    "\n",
    "num_epochs, lr = 10, 1\n",
    "ppl_list = train(net, train_iter, vocab, lr, num_epochs, try_gpu())\n",
    "\n",
    "# 预测\n",
    "prefix = 'time traveller '\n",
    "# prefix = prefix.split()\n",
    "print(predict(prefix=prefix, num_preds=25, net=net, vocab=vocab, device=try_gpu(), token=token))"
   ],
   "id": "4832b23e52221b6b",
   "outputs": [
    {
     "name": "stdout",
     "output_type": "stream",
     "text": [
      "= 1 / 10 困惑度 16.4 | 17077.8 词元/秒 = \n",
      "= 2 / 10 困惑度 11.0 | 11004.6 词元/秒 = \n",
      "= 3 / 10 困惑度 10.0 | 11255.4 词元/秒 = \n",
      "= 4 / 10 困惑度 9.5 | 11654.5 词元/秒 = \n",
      "= 5 / 10 困惑度 9.0 | 13432.2 词元/秒 = \n",
      "= 6 / 10 困惑度 8.6 | 11147.9 词元/秒 = \n",
      "= 7 / 10 困惑度 8.2 | 11382.1 词元/秒 = \n",
      "= 8 / 10 困惑度 7.9 | 11327.8 词元/秒 = \n",
      "= 9 / 10 困惑度 7.7 | 11485.9 词元/秒 = \n",
      "= 10 / 10 困惑度 7.4 | 11441.0 词元/秒 = \n",
      "[困惑度 7.4 | 11441.0 词元/秒 on cpu]\n",
      "time traveller and the mare a ditere the\n"
     ]
    }
   ],
   "execution_count": 116
  },
  {
   "metadata": {
    "ExecuteTime": {
     "end_time": "2025-03-17T07:06:03.278036Z",
     "start_time": "2025-03-17T07:06:03.014743Z"
    }
   },
   "cell_type": "code",
   "source": [
    "plt.plot(ppl_list)\n",
    "plt.show()"
   ],
   "id": "9eb28f02287d6b53",
   "outputs": [
    {
     "data": {
      "text/plain": [
       "<Figure size 640x480 with 1 Axes>"
      ],
      "image/png": "[encoded data removed]"
     },
     "metadata": {},
     "output_type": "display_data"
    }
   ],
   "execution_count": 117
  },
  {
   "metadata": {},
   "cell_type": "code",
   "outputs": [],
   "execution_count": null,
   "source": "",
   "id": "b79f7c97acab537c"
  }
 ],
 "metadata": {
  "kernelspec": {
   "display_name": "dl",
   "language": "python",
   "name": "dl"
  },
  "language_info": {
   "codemirror_mode": {
    "name": "ipython",
    "version": 2
   },
   "file_extension": ".py",
   "mimetype": "text/x-python",
   "name": "python",
   "nbconvert_exporter": "python",
   "pygments_lexer": "ipython2",
   "version": "2.7.6"
  }
 },
 "nbformat": 4,
 "nbformat_minor": 5
}
